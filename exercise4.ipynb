{
  "cells": [
    {
      "cell_type": "markdown",
      "metadata": {
        "id": "cPRRjBOhHHMh"
      },
      "source": [
        "# Exercise 4\n",
        "\n",
        "Please follow the instructions in each number."
      ]
    },
    {
      "cell_type": "markdown",
      "metadata": {
        "id": "zvDTNWRFHHMk"
      },
      "source": [
        "### Activity Selection Problem\n",
        "\n",
        "Given a set of activities, along with the starting and finishing time of each activity, find the maximum number of activities performed by a single person assuming that a person can only work on a single activity at a time.\n",
        "\n",
        "For example,\n",
        "\n",
        "Input: Following set of activities (1, 4), (3, 5), (0, 6), (5, 7), (3, 8), (5, 9), (6, 10), (8, 11), (8, 12), (2, 13), (12, 14)  \n",
        "\n",
        "Output: (1, 4), (5, 7), (8, 11), (12, 14)"
      ]
    },
    {
      "cell_type": "markdown",
      "metadata": {
        "id": "ff7w7YLGHHMl"
      },
      "source": [
        "## Tasks"
      ]
    },
    {
      "cell_type": "markdown",
      "metadata": {
        "id": "0QLHdoNSHHMl"
      },
      "source": [
        "1. Write a program using a recursive greedy approach to get the maximum number of activities (`50 points`)"
      ]
    },
    {
      "cell_type": "code",
      "execution_count": 1,
      "metadata": {
        "vscode": {
          "languageId": "plaintext"
        },
        "id": "Xe02cHvAHHMl",
        "outputId": "8991e9b7-0502-44d0-f7bf-020a1a332e0f",
        "colab": {
          "base_uri": "https://localhost:8080/"
        }
      },
      "outputs": [
        {
          "output_type": "stream",
          "name": "stdout",
          "text": [
            "The maximum number of activities that can be selected is: 4\n"
          ]
        }
      ],
      "source": [
        "def activitySelection(s, f, n):\n",
        "\n",
        "    # Sort activities by finish time\n",
        "    activities = sorted(zip(s, f), key=lambda x: x[1])\n",
        "\n",
        "    # Base case: No activities\n",
        "    if n == 0:\n",
        "        return 0\n",
        "\n",
        "    # Select the first activity\n",
        "    max_activities = 1\n",
        "    i = 0\n",
        "\n",
        "    # Iterate through the remaining activities\n",
        "    for j in range(1, n):\n",
        "        # If the current activity starts after the previous one ends, select it\n",
        "        if activities[j][0] >= activities[i][1]:\n",
        "            max_activities += 1\n",
        "            i = j\n",
        "\n",
        "    return max_activities\n",
        "\n",
        "# Example usage\n",
        "s = [1, 3, 0, 5, 3, 5, 6, 8, 8, 2, 12]\n",
        "f = [4, 5, 6, 7, 8, 9, 10, 11, 12, 13, 14]\n",
        "n = len(s)\n",
        "\n",
        "max_activities = activitySelection(s, f, n)\n",
        "print(\"The maximum number of activities that can be selected is:\", max_activities)"
      ]
    },
    {
      "cell_type": "markdown",
      "metadata": {
        "id": "eZe27u4LHHMn"
      },
      "source": [
        "2. Write a program using a iterative greedy approach to get the maximun number of activities (`50 points`)"
      ]
    },
    {
      "cell_type": "code",
      "execution_count": 2,
      "metadata": {
        "vscode": {
          "languageId": "plaintext"
        },
        "id": "UrSZyQwEHHMn",
        "outputId": "8d01f866-67aa-4477-de5b-9c32e5dac69d",
        "colab": {
          "base_uri": "https://localhost:8080/"
        }
      },
      "outputs": [
        {
          "output_type": "stream",
          "name": "stdout",
          "text": [
            "Selected activities: [(1, 4), (5, 7), (8, 11), (12, 14)]\n"
          ]
        }
      ],
      "source": [
        "def activity_selection(activities):\n",
        "\n",
        "  # Sort activities by their finishing times\n",
        "  activities.sort(key=lambda x: x[1])\n",
        "\n",
        "  # Initialize the list of selected activities with the first activity\n",
        "  selected_activities = [activities[0]]\n",
        "\n",
        "  # Iterate through the remaining activities\n",
        "  for i in range(1, len(activities)):\n",
        "    # If the current activity's start time is greater than or equal to the finish time of the last selected activity\n",
        "    if activities[i][0] >= selected_activities[-1][1]:\n",
        "      # Add the current activity to the list of selected activities\n",
        "      selected_activities.append(activities[i])\n",
        "\n",
        "  return selected_activities\n",
        "\n",
        "# Example input\n",
        "activities = [(1, 4), (3, 5), (0, 6), (5, 7), (3, 8), (5, 9), (6, 10), (8, 11), (8, 12), (2, 13), (12, 14)]\n",
        "\n",
        "# Get the maximum number of activities\n",
        "selected_activities = activity_selection(activities)\n",
        "\n",
        "# Print the selected activities\n",
        "print(\"Selected activities:\", selected_activities)"
      ]
    }
  ],
  "metadata": {
    "colab": {
      "provenance": []
    },
    "kernelspec": {
      "display_name": "base",
      "language": "python",
      "name": "python3"
    },
    "language_info": {
      "codemirror_mode": {
        "name": "ipython",
        "version": 3
      },
      "file_extension": ".py",
      "mimetype": "text/x-python",
      "name": "python",
      "nbconvert_exporter": "python",
      "pygments_lexer": "ipython3",
      "version": "3.9.6"
    }
  },
  "nbformat": 4,
  "nbformat_minor": 0
}