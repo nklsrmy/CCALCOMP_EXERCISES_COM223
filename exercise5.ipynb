{
  "cells": [
    {
      "cell_type": "markdown",
      "metadata": {
        "id": "-8bYOEC8HOQ4"
      },
      "source": [
        "# Exercise 5\n",
        "\n",
        "Please follow the instructions in each number."
      ]
    },
    {
      "cell_type": "markdown",
      "metadata": {
        "id": "FEPXLUAPHOQ6"
      },
      "source": [
        "### Maximum Subarray\n",
        "Given an array of integers nums, find the subarray with the largest sum and return the sum.\n",
        "\n",
        "A subarray is a contiguous non-empty sequence of elements within an array.\n",
        "\n",
        "\n",
        "\n",
        "Example 1:\n",
        "\n",
        "Input: nums = [2,-3,4,-2,2,1,-1,4]\n",
        "\n",
        "Output: 8\n",
        "\n",
        "Explanation: The subarray [4,-2,2,1,-1,4] has the largest sum 8."
      ]
    },
    {
      "cell_type": "markdown",
      "metadata": {
        "id": "D4a-4yS4HOQ7"
      },
      "source": [
        "## Tasks"
      ]
    },
    {
      "cell_type": "markdown",
      "metadata": {
        "id": "v8mlE6kYHOQ7"
      },
      "source": [
        "1. Put your student number in a list and manually compute the maximum subarray in your student number (`10 points`)"
      ]
    },
    {
      "cell_type": "code",
      "execution_count": null,
      "metadata": {
        "vscode": {
          "languageId": "plaintext"
        },
        "id": "YJMIVpuTHOQ8"
      },
      "outputs": [],
      "source": [
        "# Student Number [2022-109591]\n",
        "\n",
        "# [2,0,2,2,1,0,9,5,9,1] = 30\n",
        "# The maximum subarray is [2, 0, 2, 2, 1, 0, 9, 5, 9, 1], with a sum of 30"
      ]
    },
    {
      "cell_type": "markdown",
      "metadata": {
        "id": "nchQgI2KHOQ8"
      },
      "source": [
        "2. Write a program using a brute-force approach to get the maximum-subarray of your student number (`40 points`)"
      ]
    },
    {
      "cell_type": "code",
      "execution_count": 1,
      "metadata": {
        "vscode": {
          "languageId": "plaintext"
        },
        "id": "b9P6oe11HOQ9",
        "outputId": "b56183d7-8c62-4049-cab3-30302f2757cd",
        "colab": {
          "base_uri": "https://localhost:8080/"
        }
      },
      "outputs": [
        {
          "output_type": "stream",
          "name": "stdout",
          "text": [
            "Maximum subarray sum: 31\n"
          ]
        }
      ],
      "source": [
        "def max_subarray(nums):\n",
        "\n",
        "  max_sum = float('-inf')\n",
        "  for i in range(len(nums)):\n",
        "    for j in range(i, len(nums)):\n",
        "      current_sum = sum(nums[i:j+1])\n",
        "      max_sum = max(max_sum, current_sum)\n",
        "  return max_sum\n",
        "\n",
        "# My student number\n",
        "student_number = [2, 0, 2, 2, 1, 0, 9, 5, 9, 1]\n",
        "\n",
        "# Calculate the maximum subarray sum\n",
        "max_sum = max_subarray(student_number)\n",
        "\n",
        "# Print the result\n",
        "print(f\"Maximum subarray sum: {max_sum}\")"
      ]
    },
    {
      "cell_type": "markdown",
      "metadata": {
        "id": "NkqAxIx_HOQ9"
      },
      "source": [
        "3. Write a program using a dynamic programming to get the maximum-subarray of your student number (`50 points`)"
      ]
    },
    {
      "cell_type": "code",
      "execution_count": 2,
      "metadata": {
        "vscode": {
          "languageId": "plaintext"
        },
        "id": "BFBp2ARLHOQ9",
        "outputId": "67c44597-b562-408d-a5c8-dbf023a0a86c",
        "colab": {
          "base_uri": "https://localhost:8080/"
        }
      },
      "outputs": [
        {
          "output_type": "stream",
          "name": "stdout",
          "text": [
            "Maximum subarray sum: 31\n"
          ]
        }
      ],
      "source": [
        "def max_subarray(nums):\n",
        "    n = len(nums)\n",
        "    max_so_far = nums[0]\n",
        "    current_max = nums[0]\n",
        "\n",
        "    for i in range(1, n):\n",
        "        current_max = max(nums[i], current_max + nums[i])\n",
        "        max_so_far = max(max_so_far, current_max)\n",
        "\n",
        "    return max_so_far\n",
        "\n",
        "nums = [2, 0, 2, 2, 1, 0, 9, 5, 9, 1]  # My student number\n",
        "max_sum = max_subarray(nums)\n",
        "print(f\"Maximum subarray sum: {max_sum}\")"
      ]
    }
  ],
  "metadata": {
    "colab": {
      "provenance": []
    },
    "kernelspec": {
      "display_name": "base",
      "language": "python",
      "name": "python3"
    },
    "language_info": {
      "codemirror_mode": {
        "name": "ipython",
        "version": 3
      },
      "file_extension": ".py",
      "mimetype": "text/x-python",
      "name": "python",
      "nbconvert_exporter": "python",
      "pygments_lexer": "ipython3",
      "version": "3.9.6"
    }
  },
  "nbformat": 4,
  "nbformat_minor": 0
}